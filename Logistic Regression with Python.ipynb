{
 "cells": [
  {
   "cell_type": "markdown",
   "id": "f9a72498",
   "metadata": {},
   "source": [
    "## Logistic Regression with Python"
   ]
  },
  {
   "cell_type": "markdown",
   "id": "15608f2d",
   "metadata": {},
   "source": [
    "The Python code in this Notebook is provided as part of a [Dave on Data](https://www.daveondata.com) crash course on logistic regression with Python.\n",
    "\n",
    "The code is built using the mighty [statsmodels](https://www.statsmodels.org/) library. Instructions for installing statsmodels are available [here](https://www.statsmodels.org/stable/install.html).\n",
    "\n",
    "This code is provided **as-is** for your use. No warranty for this code should be assumed or is implied."
   ]
  },
  {
   "cell_type": "markdown",
   "id": "d5db4283",
   "metadata": {},
   "source": [
    "### Load the *Heart* Dataset"
   ]
  },
  {
   "cell_type": "markdown",
   "id": "43756bc3",
   "metadata": {},
   "source": [
    "The webinar uses the [Statlog (Heart) Data Set](https://archive.ics.uci.edu/dataset/145/statlog+heart) available from UCI Machine Learning Repository."
   ]
  },
  {
   "cell_type": "code",
   "execution_count": 1,
   "id": "2210a7a7",
   "metadata": {},
   "outputs": [
    {
     "data": {
      "text/html": [
       "<div>\n",
       "<style scoped>\n",
       "    .dataframe tbody tr th:only-of-type {\n",
       "        vertical-align: middle;\n",
       "    }\n",
       "\n",
       "    .dataframe tbody tr th {\n",
       "        vertical-align: top;\n",
       "    }\n",
       "\n",
       "    .dataframe thead th {\n",
       "        text-align: right;\n",
       "    }\n",
       "</style>\n",
       "<table border=\"1\" class=\"dataframe\">\n",
       "  <thead>\n",
       "    <tr style=\"text-align: right;\">\n",
       "      <th></th>\n",
       "      <th>HeartDisease</th>\n",
       "      <th>Age</th>\n",
       "      <th>Male</th>\n",
       "      <th>ChestPainType</th>\n",
       "      <th>BloodPressure</th>\n",
       "      <th>Cholesterol</th>\n",
       "      <th>BloodSugar</th>\n",
       "      <th>EEG</th>\n",
       "      <th>MaxHR</th>\n",
       "      <th>Angina</th>\n",
       "      <th>OldPeak</th>\n",
       "      <th>PeakST</th>\n",
       "      <th>Flourosopy</th>\n",
       "      <th>Thal</th>\n",
       "    </tr>\n",
       "  </thead>\n",
       "  <tbody>\n",
       "    <tr>\n",
       "      <th>0</th>\n",
       "      <td>1</td>\n",
       "      <td>70</td>\n",
       "      <td>1</td>\n",
       "      <td>4</td>\n",
       "      <td>130</td>\n",
       "      <td>322</td>\n",
       "      <td>0</td>\n",
       "      <td>2</td>\n",
       "      <td>109</td>\n",
       "      <td>0</td>\n",
       "      <td>2.4</td>\n",
       "      <td>2</td>\n",
       "      <td>3</td>\n",
       "      <td>3</td>\n",
       "    </tr>\n",
       "    <tr>\n",
       "      <th>1</th>\n",
       "      <td>0</td>\n",
       "      <td>67</td>\n",
       "      <td>0</td>\n",
       "      <td>3</td>\n",
       "      <td>115</td>\n",
       "      <td>564</td>\n",
       "      <td>0</td>\n",
       "      <td>2</td>\n",
       "      <td>160</td>\n",
       "      <td>0</td>\n",
       "      <td>1.6</td>\n",
       "      <td>2</td>\n",
       "      <td>0</td>\n",
       "      <td>7</td>\n",
       "    </tr>\n",
       "    <tr>\n",
       "      <th>2</th>\n",
       "      <td>1</td>\n",
       "      <td>57</td>\n",
       "      <td>1</td>\n",
       "      <td>2</td>\n",
       "      <td>124</td>\n",
       "      <td>261</td>\n",
       "      <td>0</td>\n",
       "      <td>0</td>\n",
       "      <td>141</td>\n",
       "      <td>0</td>\n",
       "      <td>0.3</td>\n",
       "      <td>1</td>\n",
       "      <td>0</td>\n",
       "      <td>7</td>\n",
       "    </tr>\n",
       "    <tr>\n",
       "      <th>3</th>\n",
       "      <td>0</td>\n",
       "      <td>64</td>\n",
       "      <td>1</td>\n",
       "      <td>4</td>\n",
       "      <td>128</td>\n",
       "      <td>263</td>\n",
       "      <td>0</td>\n",
       "      <td>0</td>\n",
       "      <td>105</td>\n",
       "      <td>1</td>\n",
       "      <td>0.2</td>\n",
       "      <td>2</td>\n",
       "      <td>1</td>\n",
       "      <td>7</td>\n",
       "    </tr>\n",
       "    <tr>\n",
       "      <th>4</th>\n",
       "      <td>0</td>\n",
       "      <td>74</td>\n",
       "      <td>0</td>\n",
       "      <td>2</td>\n",
       "      <td>120</td>\n",
       "      <td>269</td>\n",
       "      <td>0</td>\n",
       "      <td>2</td>\n",
       "      <td>121</td>\n",
       "      <td>1</td>\n",
       "      <td>0.2</td>\n",
       "      <td>1</td>\n",
       "      <td>1</td>\n",
       "      <td>3</td>\n",
       "    </tr>\n",
       "  </tbody>\n",
       "</table>\n",
       "</div>"
      ],
      "text/plain": [
       "   HeartDisease  Age  Male  ChestPainType  BloodPressure  Cholesterol  \\\n",
       "0             1   70     1              4            130          322   \n",
       "1             0   67     0              3            115          564   \n",
       "2             1   57     1              2            124          261   \n",
       "3             0   64     1              4            128          263   \n",
       "4             0   74     0              2            120          269   \n",
       "\n",
       "   BloodSugar  EEG  MaxHR  Angina  OldPeak  PeakST  Flourosopy  Thal  \n",
       "0           0    2    109       0      2.4       2           3     3  \n",
       "1           0    2    160       0      1.6       2           0     7  \n",
       "2           0    0    141       0      0.3       1           0     7  \n",
       "3           0    0    105       1      0.2       2           1     7  \n",
       "4           0    2    121       1      0.2       1           1     3  "
      ]
     },
     "execution_count": 1,
     "metadata": {},
     "output_type": "execute_result"
    }
   ],
   "source": [
    "import pandas as pd\n",
    "\n",
    "# Load the Heart dataset\n",
    "heart = pd.read_csv('Heart.csv')\n",
    "heart.head()"
   ]
  },
  {
   "cell_type": "markdown",
   "id": "836b447e",
   "metadata": {},
   "source": [
    "### Your First Logistic Regression Model"
   ]
  },
  {
   "cell_type": "markdown",
   "id": "3f76436c",
   "metadata": {},
   "source": [
    "As both the *HeartDisease* label and *Male* feature are already binary (i.e., the values are either 0 or 1), they can be used directly in creating a logistic regression model. The code below uses a convenient way to specify models based on the R programming language's [formula syntax](https://www.statsmodels.org/dev/example_formulas.html)."
   ]
  },
  {
   "cell_type": "code",
   "execution_count": 2,
   "id": "053386cb",
   "metadata": {},
   "outputs": [
    {
     "name": "stdout",
     "output_type": "stream",
     "text": [
      "Optimization terminated successfully.\n",
      "         Current function value: 0.640593\n",
      "         Iterations 5\n",
      "                           Logit Regression Results                           \n",
      "==============================================================================\n",
      "Dep. Variable:           HeartDisease   No. Observations:                  270\n",
      "Model:                          Logit   Df Residuals:                      268\n",
      "Method:                           MLE   Df Model:                            1\n",
      "Date:                Fri, 01 Dec 2023   Pseudo R-squ.:                 0.06750\n",
      "Time:                        08:14:01   Log-Likelihood:                -172.96\n",
      "converged:                       True   LL-Null:                       -185.48\n",
      "Covariance Type:            nonrobust   LLR p-value:                 5.618e-07\n",
      "==============================================================================\n",
      "                 coef    std err          z      P>|z|      [0.025      0.975]\n",
      "------------------------------------------------------------------------------\n",
      "Intercept     -1.2090      0.255     -4.745      0.000      -1.708      -0.710\n",
      "Male           1.3953      0.295      4.731      0.000       0.817       1.973\n",
      "==============================================================================\n"
     ]
    }
   ],
   "source": [
    "import statsmodels.formula.api as smf\n",
    "\n",
    "# Craft a logistic regression model to predict HeartDisease based on being Male\n",
    "heart_model_1 = smf.logit(formula = 'HeartDisease ~ Male', data = heart)\n",
    "\n",
    "# Train the model from the data\n",
    "model_1_results = heart_model_1.fit()\n",
    "\n",
    "# What are the model results?\n",
    "print(model_1_results.summary())"
   ]
  },
  {
   "cell_type": "markdown",
   "id": "88f0ef37",
   "metadata": {},
   "source": [
    "### Your Second Logistic Regression Model"
   ]
  },
  {
   "cell_type": "code",
   "execution_count": 3,
   "id": "3adde6ea",
   "metadata": {},
   "outputs": [
    {
     "name": "stdout",
     "output_type": "stream",
     "text": [
      "Optimization terminated successfully.\n",
      "         Current function value: 0.607039\n",
      "         Iterations 5\n",
      "                           Logit Regression Results                           \n",
      "==============================================================================\n",
      "Dep. Variable:           HeartDisease   No. Observations:                  270\n",
      "Model:                          Logit   Df Residuals:                      267\n",
      "Method:                           MLE   Df Model:                            2\n",
      "Date:                Fri, 01 Dec 2023   Pseudo R-squ.:                  0.1163\n",
      "Time:                        08:14:01   Log-Likelihood:                -163.90\n",
      "converged:                       True   LL-Null:                       -185.48\n",
      "Covariance Type:            nonrobust   LLR p-value:                 4.249e-10\n",
      "==============================================================================\n",
      "                 coef    std err          z      P>|z|      [0.025      0.975]\n",
      "------------------------------------------------------------------------------\n",
      "Intercept     -4.8637      0.959     -5.071      0.000      -6.744      -2.984\n",
      "Male           1.6222      0.315      5.156      0.000       1.006       2.239\n",
      "Age            0.0639      0.016      4.060      0.000       0.033       0.095\n",
      "==============================================================================\n"
     ]
    }
   ],
   "source": [
    "# A logistic regression model to predict HeartDisease using Male and Age\n",
    "heart_model_2 = smf.logit(formula = 'HeartDisease ~ Male + Age', data = heart)\n",
    "\n",
    "# Train the model from the data\n",
    "model_2_results = heart_model_2.fit()\n",
    "\n",
    "# What are the model results?\n",
    "print(model_2_results.summary())"
   ]
  },
  {
   "cell_type": "markdown",
   "id": "45457f01",
   "metadata": {},
   "source": [
    "### Your Third Logistic Regression Model"
   ]
  },
  {
   "cell_type": "code",
   "execution_count": 4,
   "id": "c0fa402f",
   "metadata": {},
   "outputs": [
    {
     "name": "stdout",
     "output_type": "stream",
     "text": [
      "Optimization terminated successfully.\n",
      "         Current function value: 0.538839\n",
      "         Iterations 6\n",
      "                           Logit Regression Results                           \n",
      "==============================================================================\n",
      "Dep. Variable:           HeartDisease   No. Observations:                  270\n",
      "Model:                          Logit   Df Residuals:                      266\n",
      "Method:                           MLE   Df Model:                            3\n",
      "Date:                Fri, 01 Dec 2023   Pseudo R-squ.:                  0.2156\n",
      "Time:                        08:14:01   Log-Likelihood:                -145.49\n",
      "converged:                       True   LL-Null:                       -185.48\n",
      "Covariance Type:            nonrobust   LLR p-value:                 3.090e-17\n",
      "==============================================================================\n",
      "                 coef    std err          z      P>|z|      [0.025      0.975]\n",
      "------------------------------------------------------------------------------\n",
      "Intercept     -5.2011      1.030     -5.051      0.000      -7.219      -3.183\n",
      "Male           1.4648      0.333      4.404      0.000       0.813       2.117\n",
      "Age            0.0614      0.017      3.643      0.000       0.028       0.094\n",
      "Angina         1.7952      0.312      5.761      0.000       1.184       2.406\n",
      "==============================================================================\n"
     ]
    }
   ],
   "source": [
    "# A logistic regression model to predict HeartDisease using Male, Age, & Angina\n",
    "heart_model_3 = smf.logit(formula = 'HeartDisease ~ Male + Age + Angina', data = heart)\n",
    "\n",
    "# Train the model from the data\n",
    "model_3_results = heart_model_3.fit()\n",
    "\n",
    "# What are the model results?\n",
    "print(model_3_results.summary())"
   ]
  },
  {
   "cell_type": "markdown",
   "id": "fad42418",
   "metadata": {},
   "source": [
    "### Interpreting Coefficients"
   ]
  },
  {
   "cell_type": "code",
   "execution_count": 5,
   "id": "67332d30",
   "metadata": {},
   "outputs": [
    {
     "name": "stdout",
     "output_type": "stream",
     "text": [
      "4.326528261966836\n"
     ]
    }
   ],
   "source": [
    "from math import exp\n",
    "\n",
    "# Get the odds ratio for the Male coefficient\n",
    "print(exp(model_3_results.params['Male']))"
   ]
  },
  {
   "cell_type": "code",
   "execution_count": 6,
   "id": "3bb8d929",
   "metadata": {},
   "outputs": [
    {
     "name": "stdout",
     "output_type": "stream",
     "text": [
      "1.0633171823751426\n"
     ]
    }
   ],
   "source": [
    "# Get the odds ratio for the Age coefficient\n",
    "print(exp(model_3_results.params['Age']))"
   ]
  },
  {
   "cell_type": "code",
   "execution_count": 7,
   "id": "a74a4a6a",
   "metadata": {},
   "outputs": [
    {
     "name": "stdout",
     "output_type": "stream",
     "text": [
      "6.020938842080951\n"
     ]
    }
   ],
   "source": [
    "# Get the odds ratio for the Angina coefficient\n",
    "print(exp(model_3_results.params['Angina']))"
   ]
  }
 ],
 "metadata": {
  "kernelspec": {
   "display_name": "Python 3 (ipykernel)",
   "language": "python",
   "name": "python3"
  },
  "language_info": {
   "codemirror_mode": {
    "name": "ipython",
    "version": 3
   },
   "file_extension": ".py",
   "mimetype": "text/x-python",
   "name": "python",
   "nbconvert_exporter": "python",
   "pygments_lexer": "ipython3",
   "version": "3.11.5"
  }
 },
 "nbformat": 4,
 "nbformat_minor": 5
}
